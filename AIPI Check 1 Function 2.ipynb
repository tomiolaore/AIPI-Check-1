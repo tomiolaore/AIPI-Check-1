{
 "cells": [
  {
   "cell_type": "code",
   "execution_count": 2,
   "metadata": {},
   "outputs": [
    {
     "name": "stdout",
     "output_type": "stream",
     "text": [
      "IsAnagram:listen\n",
      "IsAnagram:silent\n",
      "True\n"
     ]
    }
   ],
   "source": [
    "string1 = input(\"IsAnagram:\")\n",
    "string2 = input(\"IsAnagram:\")\n",
    "sorted_string1 = sorted(string1)\n",
    "sorted_string2 = sorted(string2)\n",
    "\n",
    "if sorted_string1 ==sorted_string2:\n",
    "    print(\"True\")\n",
    "else:\n",
    "    print(\"False\")"
   ]
  },
  {
   "cell_type": "code",
   "execution_count": 3,
   "metadata": {},
   "outputs": [
    {
     "name": "stdout",
     "output_type": "stream",
     "text": [
      "IsAnagram:icecream\n",
      "IsAnagram:cinema\n",
      "False\n"
     ]
    }
   ],
   "source": [
    "string1 = input(\"IsAnagram:\")\n",
    "string2 = input(\"IsAnagram:\")\n",
    "sorted_string1 = sorted(string1)\n",
    "sorted_string2 = sorted(string2)\n",
    "\n",
    "if sorted_string1 ==sorted_string2:\n",
    "    print(\"True\")\n",
    "else:\n",
    "    print(\"False\")"
   ]
  },
  {
   "cell_type": "code",
   "execution_count": 4,
   "metadata": {},
   "outputs": [
    {
     "name": "stdout",
     "output_type": "stream",
     "text": [
      "IsAnagram:below\n",
      "IsAnagram:elbow\n",
      "True\n"
     ]
    }
   ],
   "source": [
    "string1 = input(\"IsAnagram:\")\n",
    "string2 = input(\"IsAnagram:\")\n",
    "sorted_string1 = sorted(string1)\n",
    "sorted_string2 = sorted(string2)\n",
    "\n",
    "if sorted_string1 ==sorted_string2:\n",
    "    print(\"True\")\n",
    "else:\n",
    "    print(\"False\")"
   ]
  },
  {
   "cell_type": "code",
   "execution_count": null,
   "metadata": {},
   "outputs": [],
   "source": []
  }
 ],
 "metadata": {
  "kernelspec": {
   "display_name": "Python 3",
   "language": "python",
   "name": "python3"
  },
  "language_info": {
   "codemirror_mode": {
    "name": "ipython",
    "version": 3
   },
   "file_extension": ".py",
   "mimetype": "text/x-python",
   "name": "python",
   "nbconvert_exporter": "python",
   "pygments_lexer": "ipython3",
   "version": "3.7.3"
  }
 },
 "nbformat": 4,
 "nbformat_minor": 2
}
